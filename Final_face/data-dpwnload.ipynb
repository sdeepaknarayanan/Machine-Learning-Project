{
 "cells": [
  {
   "cell_type": "code",
   "execution_count": 6,
   "metadata": {},
   "outputs": [
    {
     "name": "stdout",
     "output_type": "stream",
     "text": [
      "Reading in file...\n",
      "Done.\n",
      "Decoding...\n"
     ]
    }
   ],
   "source": [
    "import multiprocessing\n",
    "import base64\n",
    "import io\n",
    "from PIL import Image\n",
    "import os\n",
    "import hashlib\n",
    "\n",
    "\n",
    "def decode_image( x ):\n",
    "    [url, face_data] = [x[0],x[1]]\n",
    "    results_path = './MSceleb_data/data/'\n",
    "    sha_res = hashlib.sha1(url).hexdigest() + '.jpg'\n",
    "    fname = os.path.join(results_path, sha_res)\n",
    "    decoded = base64.b64decode(face_data)\n",
    "    img = Image.open(io.BytesIO(decoded))\n",
    "    img.save(fname)\n",
    "\n",
    "    info_path = './MSceleb_data/info/'\n",
    "    with open(os.path.join(info_path,'test_data_info.txt'), 'a') as fd:\n",
    "                fd.write('%s\\n' % (sha_res))\n",
    "        \n",
    "if __name__=='__main__':\n",
    "    data_file = '/home/deepak_narayanan/TrainData_Base.tsv'\n",
    "    num_to_decode = 10**5\n",
    "    \n",
    "    print('Reading in file...')\n",
    "    tasks = []\n",
    "    with open(data_file, 'r', encoding='utf-8') as f:\n",
    "        for i in range(0, num_to_decode):\n",
    "            line = f.readline()\n",
    "            tokens = line.split('\\t')\n",
    "            #print(tokens[1])\n",
    "            tasks.append((bytes(tokens[4], 'utf-8'), bytes(tokens[1], 'utf-8')))\n",
    "            \n",
    "    print('Done.')\n",
    "    print('Decoding...')\n",
    "    \n",
    "    pool_size = multiprocessing.cpu_count()\n",
    "    pool = multiprocessing.Pool(processes=pool_size, maxtasksperchild=2)\n",
    "    pool.map(decode_image, tasks)\n",
    "    pool.close()\n",
    "    pool.join()       "
   ]
  },
  {
   "cell_type": "code",
   "execution_count": 21,
   "metadata": {},
   "outputs": [
    {
     "name": "stdout",
     "output_type": "stream",
     "text": [
      "360456\n"
     ]
    }
   ],
   "source": [
    "import os\n",
    "\n",
    "list = os.listdir('emoji_data') # dir is your directory path\n",
    "number_files = len(list)\n",
    "print (number_files)"
   ]
  },
  {
   "cell_type": "code",
   "execution_count": 18,
   "metadata": {},
   "outputs": [
    {
     "name": "stdout",
     "output_type": "stream",
     "text": [
      "--2019-04-20 12:05:53--  https://msceleb.blob.core.windows.net/msceleb-v1/FaceImageCroppedWithAlignment.tsv\n",
      "Resolving msceleb.blob.core.windows.net (msceleb.blob.core.windows.net)... 52.239.161.42\n",
      "Connecting to msceleb.blob.core.windows.net (msceleb.blob.core.windows.net)|52.239.161.42|:443... connected.\n",
      "HTTP request sent, awaiting response... 200 OK\n",
      "Length: 91124295076 (85G) [application/octet-stream]\n",
      "Saving to: ‘FaceImageCroppedWithAlignment.tsv.2’\n",
      "\n",
      "   FaceImageCropped  13%[=>                  ]  11.75G   772KB/s    eta 7h 35m ^C\n"
     ]
    }
   ],
   "source": [
    "# !wget \"https://msceleb.blob.core.windows.net/msceleb-v1/FaceImageCroppedWithAlignment.tsv\""
   ]
  },
  {
   "cell_type": "code",
   "execution_count": null,
   "metadata": {},
   "outputs": [],
   "source": []
  }
 ],
 "metadata": {
  "kernelspec": {
   "display_name": "Python 3",
   "language": "python",
   "name": "python3"
  },
  "language_info": {
   "codemirror_mode": {
    "name": "ipython",
    "version": 3
   },
   "file_extension": ".py",
   "mimetype": "text/x-python",
   "name": "python",
   "nbconvert_exporter": "python",
   "pygments_lexer": "ipython3",
   "version": "3.5.3"
  }
 },
 "nbformat": 4,
 "nbformat_minor": 2
}
