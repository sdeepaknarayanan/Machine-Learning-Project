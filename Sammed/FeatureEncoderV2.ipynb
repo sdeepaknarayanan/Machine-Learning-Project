{
  "nbformat": 4,
  "nbformat_minor": 0,
  "metadata": {
    "colab": {
      "name": "FeatureEncoderV2.ipynb",
      "version": "0.3.2",
      "provenance": [],
      "collapsed_sections": []
    },
    "kernelspec": {
      "name": "python3",
      "display_name": "Python 3"
    },
    "accelerator": "GPU"
  },
  "cells": [
    {
      "metadata": {
        "id": "iUfumEqaqsv2",
        "colab_type": "code",
        "colab": {}
      },
      "cell_type": "code",
      "source": [
        "import torchvision \n",
        "\n",
        "\n",
        "svhn_extraset = torchvision.datasets.SVHN('./SVHN', split='extra', transform=None, target_transform=None, download=False)\n",
        "#svhn_testset = torchvision.datasets.SVHN('./SVHN', split='test', transform=None, target_transform=None, download=True)"
      ],
      "execution_count": 0,
      "outputs": []
    },
    {
      "metadata": {
        "id": "XthWJ1o_rf1S",
        "colab_type": "code",
        "outputId": "d2b90a5a-605d-4858-c058-88be18ae5977",
        "colab": {
          "base_uri": "https://localhost:8080/",
          "height": 34
        }
      },
      "cell_type": "code",
      "source": [
        "import numpy as np\n",
        "import pandas as pd\n",
        "import matplotlib.pyplot as plt\n",
        "import keras\n",
        "from keras.models import Sequential\n",
        "from keras.layers.core import Dense, Dropout, Activation, Flatten\n",
        "from keras.layers.convolutional import Conv2D, MaxPooling2D,Conv2DTranspose\n",
        "from sklearn.model_selection import train_test_split\n",
        "from skimage import color\n",
        "from skimage import io\n",
        "import cv2"
      ],
      "execution_count": 2,
      "outputs": [
        {
          "output_type": "stream",
          "text": [
            "Using TensorFlow backend.\n"
          ],
          "name": "stderr"
        }
      ]
    },
    {
      "metadata": {
        "id": "bRpZVByIuDHw",
        "colab_type": "code",
        "colab": {}
      },
      "cell_type": "code",
      "source": [
        "gray_svhn_extra = []\n",
        "for i in range(np.shape(svhn_extraset.data)[0]):\n",
        "  temp = color.rgb2gray(svhn_extraset.data[i].T).T\n",
        "  norm_image = cv2.normalize(temp, None, alpha=0, beta=1, norm_type=cv2.NORM_MINMAX)\n",
        "  gray_svhn_extra.append(np.array(norm_image.reshape(1,32,32)))"
      ],
      "execution_count": 0,
      "outputs": []
    },
    {
      "metadata": {
        "id": "cjuDxnqMrhj3",
        "colab_type": "code",
        "outputId": "e560464d-f133-423a-963c-28ae81336236",
        "colab": {
          "base_uri": "https://localhost:8080/",
          "height": 364
        }
      },
      "cell_type": "code",
      "source": [
        "index =323\n",
        "plt.imshow(gray_svhn_extra[index].reshape(32,32))\n",
        "svhn_extraset.labels[index]"
      ],
      "execution_count": 4,
      "outputs": [
        {
          "output_type": "execute_result",
          "data": {
            "text/plain": [
              "7"
            ]
          },
          "metadata": {
            "tags": []
          },
          "execution_count": 4
        },
        {
          "output_type": "display_data",
          "data": {
            "image/png": "[encoded data removed]",
            "text/plain": [
              "<Figure size 576x396 with 1 Axes>"
            ]
          },
          "metadata": {
            "tags": []
          }
        }
      ]
    },
    {
      "metadata": {
        "id": "_CmCJP0tzp71",
        "colab_type": "code",
        "colab": {}
      },
      "cell_type": "code",
      "source": [
        "x_train, x_test, y_train, y_test = train_test_split(gray_svhn_extra,svhn_extraset.labels,test_size = 0.2,random_state = 42)"
      ],
      "execution_count": 0,
      "outputs": []
    },
    {
      "metadata": {
        "id": "hbgY8mu_0N71",
        "colab_type": "code",
        "colab": {}
      },
      "cell_type": "code",
      "source": [
        "y_train_oe = keras.utils.to_categorical(y_train,num_classes = 10)\n",
        "y_test_oe = keras.utils.to_categorical(y_test,num_classes = 10)"
      ],
      "execution_count": 0,
      "outputs": []
    },
    {
      "metadata": {
        "id": "ZYYylVDE0Rea",
        "colab_type": "code",
        "outputId": "c52928c2-bef6-42c5-a434-114e41863bf7",
        "colab": {
          "base_uri": "https://localhost:8080/",
          "height": 87
        }
      },
      "cell_type": "code",
      "source": [
        "model = Sequential()\n",
        "model.add(Conv2D(64, kernel_size=(3,3), input_shape=(1,32,32),padding=\"same\", data_format=\"channels_first\"))\n",
        "model.add(Activation('relu'))\n",
        "model.add(MaxPooling2D(pool_size=(2,2) , data_format=\"channels_first\"))\n",
        "model.add(Conv2D(128,kernel_size=(3,3), padding=\"same\", data_format=\"channels_first\"))\n",
        "model.add(Activation('relu'))\n",
        "model.add(MaxPooling2D(pool_size=(2,2) , data_format=\"channels_first\"))\n",
        "model.add(Conv2D(256,kernel_size=(3,3), padding=\"same\", data_format=\"channels_first\"))\n",
        "model.add(Activation('relu'))\n",
        "model.add(MaxPooling2D(pool_size=(2,2) , data_format=\"channels_first\"))\n",
        "model.add(Conv2D(128,kernel_size=(4,4), padding=\"same\", data_format=\"channels_first\"))\n",
        "model.add(Activation('relu'))\n",
        "model.add(MaxPooling2D(pool_size=(4,4) , data_format=\"channels_first\"))\n",
        "model.add(Flatten())\n",
        "model.add(Dense(10))\n",
        "model.add(Activation('softmax'))\n",
        "model.compile(loss='categorical_crossentropy', optimizer = 'adadelta', metrics = ['accuracy'])"
      ],
      "execution_count": 7,
      "outputs": [
        {
          "output_type": "stream",
          "text": [
            "WARNING:tensorflow:From /usr/local/lib/python3.6/dist-packages/tensorflow/python/framework/op_def_library.py:263: colocate_with (from tensorflow.python.framework.ops) is deprecated and will be removed in a future version.\n",
            "Instructions for updating:\n",
            "Colocations handled automatically by placer.\n"
          ],
          "name": "stdout"
        }
      ]
    },
    {
      "metadata": {
        "id": "Bz8bdN5O2rqc",
        "colab_type": "code",
        "outputId": "26bf112e-e7b9-49e2-90f1-abb5d399a0af",
        "colab": {
          "base_uri": "https://localhost:8080/",
          "height": 638
        }
      },
      "cell_type": "code",
      "source": [
        "model.summary()"
      ],
      "execution_count": 8,
      "outputs": [
        {
          "output_type": "stream",
          "text": [
            "_________________________________________________________________\n",
            "Layer (type)                 Output Shape              Param #   \n",
            "=================================================================\n",
            "conv2d_1 (Conv2D)            (None, 64, 32, 32)        640       \n",
            "_________________________________________________________________\n",
            "activation_1 (Activation)    (None, 64, 32, 32)        0         \n",
            "_________________________________________________________________\n",
            "max_pooling2d_1 (MaxPooling2 (None, 64, 16, 16)        0         \n",
            "_________________________________________________________________\n",
            "conv2d_2 (Conv2D)            (None, 128, 16, 16)       73856     \n",
            "_________________________________________________________________\n",
            "activation_2 (Activation)    (None, 128, 16, 16)       0         \n",
            "_________________________________________________________________\n",
            "max_pooling2d_2 (MaxPooling2 (None, 128, 8, 8)         0         \n",
            "_________________________________________________________________\n",
            "conv2d_3 (Conv2D)            (None, 256, 8, 8)         295168    \n",
            "_________________________________________________________________\n",
            "activation_3 (Activation)    (None, 256, 8, 8)         0         \n",
            "_________________________________________________________________\n",
            "max_pooling2d_3 (MaxPooling2 (None, 256, 4, 4)         0         \n",
            "_________________________________________________________________\n",
            "conv2d_4 (Conv2D)            (None, 128, 4, 4)         524416    \n",
            "_________________________________________________________________\n",
            "activation_4 (Activation)    (None, 128, 4, 4)         0         \n",
            "_________________________________________________________________\n",
            "max_pooling2d_4 (MaxPooling2 (None, 128, 1, 1)         0         \n",
            "_________________________________________________________________\n",
            "flatten_1 (Flatten)          (None, 128)               0         \n",
            "_________________________________________________________________\n",
            "dense_1 (Dense)              (None, 10)                1290      \n",
            "_________________________________________________________________\n",
            "activation_5 (Activation)    (None, 10)                0         \n",
            "=================================================================\n",
            "Total params: 895,370\n",
            "Trainable params: 895,370\n",
            "Non-trainable params: 0\n",
            "_________________________________________________________________\n"
          ],
          "name": "stdout"
        }
      ]
    },
    {
      "metadata": {
        "id": "HOrs_K672-tQ",
        "colab_type": "code",
        "outputId": "88a9ee37-51d8-4980-b0b9-2986e1b69cf9",
        "colab": {
          "base_uri": "https://localhost:8080/",
          "height": 440
        }
      },
      "cell_type": "code",
      "source": [
        "model.fit(np.array(x_train),y_train_oe,epochs = 10)"
      ],
      "execution_count": 9,
      "outputs": [
        {
          "output_type": "stream",
          "text": [
            "WARNING:tensorflow:From /usr/local/lib/python3.6/dist-packages/tensorflow/python/ops/math_ops.py:3066: to_int32 (from tensorflow.python.ops.math_ops) is deprecated and will be removed in a future version.\n",
            "Instructions for updating:\n",
            "Use tf.cast instead.\n",
            "Epoch 1/10\n",
            "424904/424904 [==============================] - 220s 517us/step - loss: 0.1588 - acc: 0.9524\n",
            "Epoch 2/10\n",
            "424904/424904 [==============================] - 218s 512us/step - loss: 0.0706 - acc: 0.9812\n",
            "Epoch 3/10\n",
            "424904/424904 [==============================] - 218s 513us/step - loss: 0.0556 - acc: 0.9862\n",
            "Epoch 4/10\n",
            "424904/424904 [==============================] - 217s 512us/step - loss: 0.0466 - acc: 0.9888\n",
            "Epoch 5/10\n",
            "424904/424904 [==============================] - 217s 511us/step - loss: 0.0397 - acc: 0.9908\n",
            "Epoch 6/10\n",
            "424904/424904 [==============================] - 217s 511us/step - loss: 0.0335 - acc: 0.9927\n",
            "Epoch 7/10\n",
            "424904/424904 [==============================] - 219s 516us/step - loss: 0.0289 - acc: 0.9942\n",
            "Epoch 8/10\n",
            "424904/424904 [==============================] - 219s 516us/step - loss: 0.0253 - acc: 0.9951\n",
            "Epoch 9/10\n",
            "424904/424904 [==============================] - 219s 514us/step - loss: 0.0221 - acc: 0.9960\n",
            "Epoch 10/10\n",
            "424904/424904 [==============================] - 219s 515us/step - loss: 0.0204 - acc: 0.9965\n"
          ],
          "name": "stdout"
        },
        {
          "output_type": "execute_result",
          "data": {
            "text/plain": [
              "<keras.callbacks.History at 0x7fac91d1ef60>"
            ]
          },
          "metadata": {
            "tags": []
          },
          "execution_count": 9
        }
      ]
    },
    {
      "metadata": {
        "id": "yfX8E5E9EhFW",
        "colab_type": "code",
        "colab": {
          "base_uri": "https://localhost:8080/",
          "height": 50
        },
        "outputId": "35a0209d-f5b2-4984-ebbe-646f43e3b250"
      },
      "cell_type": "code",
      "source": [
        "model.evaluate(np.array(x_test),y_test_oe)"
      ],
      "execution_count": 11,
      "outputs": [
        {
          "output_type": "stream",
          "text": [
            "106227/106227 [==============================] - 17s 161us/step\n"
          ],
          "name": "stdout"
        },
        {
          "output_type": "execute_result",
          "data": {
            "text/plain": [
              "[0.12321339084814353, 0.9833658109520178]"
            ]
          },
          "metadata": {
            "tags": []
          },
          "execution_count": 11
        }
      ]
    },
    {
      "metadata": {
        "id": "7TpDaLGW8lqc",
        "colab_type": "code",
        "colab": {
          "base_uri": "https://localhost:8080/",
          "height": 34
        },
        "outputId": "23184541-d5e0-431b-d7e9-c6fac3c7951b"
      },
      "cell_type": "code",
      "source": [
        "model.metrics_names"
      ],
      "execution_count": 12,
      "outputs": [
        {
          "output_type": "execute_result",
          "data": {
            "text/plain": [
              "['loss', 'acc']"
            ]
          },
          "metadata": {
            "tags": []
          },
          "execution_count": 12
        }
      ]
    },
    {
      "metadata": {
        "id": "Er1e_xR38q6r",
        "colab_type": "code",
        "colab": {}
      },
      "cell_type": "code",
      "source": [
        ""
      ],
      "execution_count": 0,
      "outputs": []
    }
  ]
}